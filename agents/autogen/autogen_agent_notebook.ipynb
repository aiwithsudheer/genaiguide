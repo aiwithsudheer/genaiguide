{
 "cells": [
  {
   "cell_type": "code",
   "execution_count": 3,
   "metadata": {},
   "outputs": [
    {
     "name": "stdout",
     "output_type": "stream",
     "text": [
      "Defaulting to user installation because normal site-packages is not writeable\n",
      "Requirement already satisfied: autogen-agentchat~=0.2 in c:\\users\\sudhe\\appdata\\local\\packages\\pythonsoftwarefoundation.python.3.13_qbz5n2kfra8p0\\localcache\\local-packages\\python313\\site-packages (0.4.7)\n",
      "Collecting pyautogen\n",
      "  Using cached pyautogen-0.7.6-py3-none-any.whl.metadata (28 kB)\n",
      "Requirement already satisfied: autogen-core==0.4.7 in c:\\users\\sudhe\\appdata\\local\\packages\\pythonsoftwarefoundation.python.3.13_qbz5n2kfra8p0\\localcache\\local-packages\\python313\\site-packages (from autogen-agentchat~=0.2) (0.4.7)\n",
      "Requirement already satisfied: jsonref~=1.1.0 in c:\\users\\sudhe\\appdata\\local\\packages\\pythonsoftwarefoundation.python.3.13_qbz5n2kfra8p0\\localcache\\local-packages\\python313\\site-packages (from autogen-core==0.4.7->autogen-agentchat~=0.2) (1.1.0)\n",
      "Requirement already satisfied: opentelemetry-api>=1.27.0 in c:\\users\\sudhe\\appdata\\local\\packages\\pythonsoftwarefoundation.python.3.13_qbz5n2kfra8p0\\localcache\\local-packages\\python313\\site-packages (from autogen-core==0.4.7->autogen-agentchat~=0.2) (1.30.0)\n",
      "Requirement already satisfied: pillow>=11.0.0 in c:\\users\\sudhe\\appdata\\local\\packages\\pythonsoftwarefoundation.python.3.13_qbz5n2kfra8p0\\localcache\\local-packages\\python313\\site-packages (from autogen-core==0.4.7->autogen-agentchat~=0.2) (11.1.0)\n",
      "Requirement already satisfied: protobuf~=5.29.3 in c:\\users\\sudhe\\appdata\\local\\packages\\pythonsoftwarefoundation.python.3.13_qbz5n2kfra8p0\\localcache\\local-packages\\python313\\site-packages (from autogen-core==0.4.7->autogen-agentchat~=0.2) (5.29.3)\n",
      "Requirement already satisfied: pydantic<3.0.0,>=2.10.0 in c:\\users\\sudhe\\appdata\\local\\packages\\pythonsoftwarefoundation.python.3.13_qbz5n2kfra8p0\\localcache\\local-packages\\python313\\site-packages (from autogen-core==0.4.7->autogen-agentchat~=0.2) (2.10.6)\n",
      "Requirement already satisfied: typing-extensions>=4.0.0 in c:\\users\\sudhe\\appdata\\local\\packages\\pythonsoftwarefoundation.python.3.13_qbz5n2kfra8p0\\localcache\\local-packages\\python313\\site-packages (from autogen-core==0.4.7->autogen-agentchat~=0.2) (4.12.2)\n",
      "Collecting asyncer==0.0.8 (from pyautogen)\n",
      "  Using cached asyncer-0.0.8-py3-none-any.whl.metadata (6.7 kB)\n",
      "Collecting diskcache (from pyautogen)\n",
      "  Using cached diskcache-5.6.3-py3-none-any.whl.metadata (20 kB)\n",
      "Collecting docker (from pyautogen)\n",
      "  Using cached docker-7.1.0-py3-none-any.whl.metadata (3.8 kB)\n",
      "Collecting fast-depends<3,>=2.4.12 (from pyautogen)\n",
      "  Using cached fast_depends-2.4.12-py3-none-any.whl.metadata (7.6 kB)\n",
      "Requirement already satisfied: httpx<1,>=0.28.1 in c:\\users\\sudhe\\appdata\\local\\packages\\pythonsoftwarefoundation.python.3.13_qbz5n2kfra8p0\\localcache\\local-packages\\python313\\site-packages (from pyautogen) (0.28.1)\n",
      "Requirement already satisfied: packaging in c:\\users\\sudhe\\appdata\\local\\packages\\pythonsoftwarefoundation.python.3.13_qbz5n2kfra8p0\\localcache\\local-packages\\python313\\site-packages (from pyautogen) (24.2)\n",
      "Requirement already satisfied: python-dotenv in c:\\users\\sudhe\\appdata\\local\\packages\\pythonsoftwarefoundation.python.3.13_qbz5n2kfra8p0\\localcache\\local-packages\\python313\\site-packages (from pyautogen) (1.0.1)\n",
      "Collecting termcolor (from pyautogen)\n",
      "  Using cached termcolor-2.5.0-py3-none-any.whl.metadata (6.1 kB)\n",
      "Requirement already satisfied: tiktoken in c:\\users\\sudhe\\appdata\\local\\packages\\pythonsoftwarefoundation.python.3.13_qbz5n2kfra8p0\\localcache\\local-packages\\python313\\site-packages (from pyautogen) (0.9.0)\n",
      "Requirement already satisfied: anyio<5.0,>=3.4.0 in c:\\users\\sudhe\\appdata\\local\\packages\\pythonsoftwarefoundation.python.3.13_qbz5n2kfra8p0\\localcache\\local-packages\\python313\\site-packages (from asyncer==0.0.8->pyautogen) (4.8.0)\n",
      "Requirement already satisfied: certifi in c:\\users\\sudhe\\appdata\\local\\packages\\pythonsoftwarefoundation.python.3.13_qbz5n2kfra8p0\\localcache\\local-packages\\python313\\site-packages (from httpx<1,>=0.28.1->pyautogen) (2025.1.31)\n",
      "Requirement already satisfied: httpcore==1.* in c:\\users\\sudhe\\appdata\\local\\packages\\pythonsoftwarefoundation.python.3.13_qbz5n2kfra8p0\\localcache\\local-packages\\python313\\site-packages (from httpx<1,>=0.28.1->pyautogen) (1.0.7)\n",
      "Requirement already satisfied: idna in c:\\users\\sudhe\\appdata\\local\\packages\\pythonsoftwarefoundation.python.3.13_qbz5n2kfra8p0\\localcache\\local-packages\\python313\\site-packages (from httpx<1,>=0.28.1->pyautogen) (3.10)\n",
      "Requirement already satisfied: h11<0.15,>=0.13 in c:\\users\\sudhe\\appdata\\local\\packages\\pythonsoftwarefoundation.python.3.13_qbz5n2kfra8p0\\localcache\\local-packages\\python313\\site-packages (from httpcore==1.*->httpx<1,>=0.28.1->pyautogen) (0.14.0)\n",
      "Requirement already satisfied: annotated-types>=0.6.0 in c:\\users\\sudhe\\appdata\\local\\packages\\pythonsoftwarefoundation.python.3.13_qbz5n2kfra8p0\\localcache\\local-packages\\python313\\site-packages (from pydantic<3.0.0,>=2.10.0->autogen-core==0.4.7->autogen-agentchat~=0.2) (0.7.0)\n",
      "Requirement already satisfied: pydantic-core==2.27.2 in c:\\users\\sudhe\\appdata\\local\\packages\\pythonsoftwarefoundation.python.3.13_qbz5n2kfra8p0\\localcache\\local-packages\\python313\\site-packages (from pydantic<3.0.0,>=2.10.0->autogen-core==0.4.7->autogen-agentchat~=0.2) (2.27.2)\n",
      "Requirement already satisfied: pywin32>=304 in c:\\users\\sudhe\\appdata\\local\\packages\\pythonsoftwarefoundation.python.3.13_qbz5n2kfra8p0\\localcache\\local-packages\\python313\\site-packages (from docker->pyautogen) (308)\n",
      "Requirement already satisfied: requests>=2.26.0 in c:\\users\\sudhe\\appdata\\local\\packages\\pythonsoftwarefoundation.python.3.13_qbz5n2kfra8p0\\localcache\\local-packages\\python313\\site-packages (from docker->pyautogen) (2.32.3)\n",
      "Requirement already satisfied: urllib3>=1.26.0 in c:\\users\\sudhe\\appdata\\local\\packages\\pythonsoftwarefoundation.python.3.13_qbz5n2kfra8p0\\localcache\\local-packages\\python313\\site-packages (from docker->pyautogen) (2.3.0)\n",
      "Requirement already satisfied: regex>=2022.1.18 in c:\\users\\sudhe\\appdata\\local\\packages\\pythonsoftwarefoundation.python.3.13_qbz5n2kfra8p0\\localcache\\local-packages\\python313\\site-packages (from tiktoken->pyautogen) (2024.11.6)\n",
      "Requirement already satisfied: sniffio>=1.1 in c:\\users\\sudhe\\appdata\\local\\packages\\pythonsoftwarefoundation.python.3.13_qbz5n2kfra8p0\\localcache\\local-packages\\python313\\site-packages (from anyio<5.0,>=3.4.0->asyncer==0.0.8->pyautogen) (1.3.1)\n",
      "Requirement already satisfied: deprecated>=1.2.6 in c:\\users\\sudhe\\appdata\\local\\packages\\pythonsoftwarefoundation.python.3.13_qbz5n2kfra8p0\\localcache\\local-packages\\python313\\site-packages (from opentelemetry-api>=1.27.0->autogen-core==0.4.7->autogen-agentchat~=0.2) (1.2.18)\n",
      "Requirement already satisfied: importlib-metadata<=8.5.0,>=6.0 in c:\\users\\sudhe\\appdata\\local\\packages\\pythonsoftwarefoundation.python.3.13_qbz5n2kfra8p0\\localcache\\local-packages\\python313\\site-packages (from opentelemetry-api>=1.27.0->autogen-core==0.4.7->autogen-agentchat~=0.2) (8.5.0)\n",
      "Requirement already satisfied: charset-normalizer<4,>=2 in c:\\users\\sudhe\\appdata\\local\\packages\\pythonsoftwarefoundation.python.3.13_qbz5n2kfra8p0\\localcache\\local-packages\\python313\\site-packages (from requests>=2.26.0->docker->pyautogen) (3.4.1)\n",
      "Requirement already satisfied: wrapt<2,>=1.10 in c:\\users\\sudhe\\appdata\\local\\packages\\pythonsoftwarefoundation.python.3.13_qbz5n2kfra8p0\\localcache\\local-packages\\python313\\site-packages (from deprecated>=1.2.6->opentelemetry-api>=1.27.0->autogen-core==0.4.7->autogen-agentchat~=0.2) (1.17.2)\n",
      "Requirement already satisfied: zipp>=3.20 in c:\\users\\sudhe\\appdata\\local\\packages\\pythonsoftwarefoundation.python.3.13_qbz5n2kfra8p0\\localcache\\local-packages\\python313\\site-packages (from importlib-metadata<=8.5.0,>=6.0->opentelemetry-api>=1.27.0->autogen-core==0.4.7->autogen-agentchat~=0.2) (3.21.0)\n",
      "Using cached pyautogen-0.7.6-py3-none-any.whl (630 kB)\n",
      "Using cached asyncer-0.0.8-py3-none-any.whl (9.2 kB)\n",
      "Using cached fast_depends-2.4.12-py3-none-any.whl (17 kB)\n",
      "Using cached diskcache-5.6.3-py3-none-any.whl (45 kB)\n",
      "Using cached docker-7.1.0-py3-none-any.whl (147 kB)\n",
      "Using cached termcolor-2.5.0-py3-none-any.whl (7.8 kB)\n",
      "Installing collected packages: termcolor, diskcache, docker, asyncer, fast-depends, pyautogen\n",
      "Successfully installed asyncer-0.0.8 diskcache-5.6.3 docker-7.1.0 fast-depends-2.4.12 pyautogen-0.7.6 termcolor-2.5.0\n",
      "Note: you may need to restart the kernel to use updated packages.\n"
     ]
    }
   ],
   "source": [
    "%pip install autogen-agentchat~=0.2 pyautogen"
   ]
  },
  {
   "cell_type": "code",
   "execution_count": 5,
   "metadata": {},
   "outputs": [
    {
     "data": {
      "text/plain": [
       "True"
      ]
     },
     "execution_count": 5,
     "metadata": {},
     "output_type": "execute_result"
    }
   ],
   "source": [
    "from dotenv import load_dotenv\n",
    "\n",
    "\n",
    "load_dotenv()\n"
   ]
  },
  {
   "cell_type": "code",
   "execution_count": 6,
   "metadata": {},
   "outputs": [],
   "source": [
    "import os\n",
    "\n",
    "from autogen import ConversableAgent\n",
    "\n",
    "agent = ConversableAgent(\n",
    "    \"chatbot\",\n",
    "    llm_config={\"config_list\": [{\"model\": \"gpt-4\", \"api_key\": os.environ.get(\"OPENAI_API_KEY\")}]},\n",
    "    code_execution_config=False,  # Turn off code execution, by default it is off.\n",
    "    function_map=None,  # No registered functions, by default it is None.\n",
    "    human_input_mode=\"NEVER\",  # Never ask for human input.\n",
    ")"
   ]
  },
  {
   "cell_type": "code",
   "execution_count": 8,
   "metadata": {},
   "outputs": [
    {
     "name": "stdout",
     "output_type": "stream",
     "text": [
      "Sure, here's one for you:\n",
      "\n",
      "Why don't scientists trust atoms?\n",
      "\n",
      "Because they make up everything!\n"
     ]
    }
   ],
   "source": [
    "reply = agent.generate_reply(messages=[{\"content\": \"Tell me a joke.\", \"role\": \"user\"}])\n",
    "print(reply)"
   ]
  },
  {
   "cell_type": "code",
   "execution_count": null,
   "metadata": {},
   "outputs": [],
   "source": []
  }
 ],
 "metadata": {
  "kernelspec": {
   "display_name": "Python 3",
   "language": "python",
   "name": "python3"
  },
  "language_info": {
   "codemirror_mode": {
    "name": "ipython",
    "version": 3
   },
   "file_extension": ".py",
   "mimetype": "text/x-python",
   "name": "python",
   "nbconvert_exporter": "python",
   "pygments_lexer": "ipython3",
   "version": "3.13.2"
  }
 },
 "nbformat": 4,
 "nbformat_minor": 2
}
